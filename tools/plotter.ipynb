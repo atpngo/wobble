{
 "cells": [
  {
   "cell_type": "code",
   "execution_count": 27,
   "id": "9083a171",
   "metadata": {},
   "outputs": [],
   "source": [
    "import pandas as pd\n",
    "import matplotlib.pyplot as plt\n",
    "import numpy as np"
   ]
  },
  {
   "cell_type": "code",
   "execution_count": 28,
   "id": "e7a0e599",
   "metadata": {},
   "outputs": [
    {
     "data": {
      "text/html": [
       "<div>\n",
       "<style scoped>\n",
       "    .dataframe tbody tr th:only-of-type {\n",
       "        vertical-align: middle;\n",
       "    }\n",
       "\n",
       "    .dataframe tbody tr th {\n",
       "        vertical-align: top;\n",
       "    }\n",
       "\n",
       "    .dataframe thead th {\n",
       "        text-align: right;\n",
       "    }\n",
       "</style>\n",
       "<table border=\"1\" class=\"dataframe\">\n",
       "  <thead>\n",
       "    <tr style=\"text-align: right;\">\n",
       "      <th></th>\n",
       "      <th>timestamp_s</th>\n",
       "      <th>pitch_degrees_t1</th>\n",
       "      <th>control_latency_microseconds_t1</th>\n",
       "      <th>pitch_degrees_t2</th>\n",
       "      <th>control_latency_microseconds_t2</th>\n",
       "      <th>pitch_degrees_t3</th>\n",
       "      <th>control_latency_microseconds_t3</th>\n",
       "    </tr>\n",
       "  </thead>\n",
       "  <tbody>\n",
       "    <tr>\n",
       "      <th>count</th>\n",
       "      <td>1002.000000</td>\n",
       "      <td>1002.000000</td>\n",
       "      <td>1001.000000</td>\n",
       "      <td>1002.000000</td>\n",
       "      <td>1001.000000</td>\n",
       "      <td>1002.000000</td>\n",
       "      <td>1001.000000</td>\n",
       "    </tr>\n",
       "    <tr>\n",
       "      <th>mean</th>\n",
       "      <td>5.005000</td>\n",
       "      <td>0.005760</td>\n",
       "      <td>2.053916</td>\n",
       "      <td>-0.014779</td>\n",
       "      <td>2.020939</td>\n",
       "      <td>0.016761</td>\n",
       "      <td>1.961578</td>\n",
       "    </tr>\n",
       "    <tr>\n",
       "      <th>std</th>\n",
       "      <td>2.893968</td>\n",
       "      <td>0.349186</td>\n",
       "      <td>2.505776</td>\n",
       "      <td>0.359852</td>\n",
       "      <td>2.070776</td>\n",
       "      <td>0.358205</td>\n",
       "      <td>2.030239</td>\n",
       "    </tr>\n",
       "    <tr>\n",
       "      <th>min</th>\n",
       "      <td>0.000000</td>\n",
       "      <td>-0.919110</td>\n",
       "      <td>0.720000</td>\n",
       "      <td>-1.457350</td>\n",
       "      <td>0.720000</td>\n",
       "      <td>-0.975500</td>\n",
       "      <td>0.720000</td>\n",
       "    </tr>\n",
       "    <tr>\n",
       "      <th>25%</th>\n",
       "      <td>2.502500</td>\n",
       "      <td>-0.256145</td>\n",
       "      <td>0.950000</td>\n",
       "      <td>-0.267253</td>\n",
       "      <td>0.950000</td>\n",
       "      <td>-0.240663</td>\n",
       "      <td>0.950000</td>\n",
       "    </tr>\n",
       "    <tr>\n",
       "      <th>50%</th>\n",
       "      <td>5.005000</td>\n",
       "      <td>0.009400</td>\n",
       "      <td>1.910000</td>\n",
       "      <td>-0.016585</td>\n",
       "      <td>1.910000</td>\n",
       "      <td>0.012310</td>\n",
       "      <td>1.670000</td>\n",
       "    </tr>\n",
       "    <tr>\n",
       "      <th>75%</th>\n",
       "      <td>7.507500</td>\n",
       "      <td>0.251077</td>\n",
       "      <td>2.150000</td>\n",
       "      <td>0.255417</td>\n",
       "      <td>2.150000</td>\n",
       "      <td>0.274377</td>\n",
       "      <td>2.150000</td>\n",
       "    </tr>\n",
       "    <tr>\n",
       "      <th>max</th>\n",
       "      <td>10.010000</td>\n",
       "      <td>1.026050</td>\n",
       "      <td>57.220000</td>\n",
       "      <td>0.887380</td>\n",
       "      <td>35.050000</td>\n",
       "      <td>1.263940</td>\n",
       "      <td>47.210000</td>\n",
       "    </tr>\n",
       "  </tbody>\n",
       "</table>\n",
       "</div>"
      ],
      "text/plain": [
       "       timestamp_s  pitch_degrees_t1  control_latency_microseconds_t1  \\\n",
       "count  1002.000000       1002.000000                      1001.000000   \n",
       "mean      5.005000          0.005760                         2.053916   \n",
       "std       2.893968          0.349186                         2.505776   \n",
       "min       0.000000         -0.919110                         0.720000   \n",
       "25%       2.502500         -0.256145                         0.950000   \n",
       "50%       5.005000          0.009400                         1.910000   \n",
       "75%       7.507500          0.251077                         2.150000   \n",
       "max      10.010000          1.026050                        57.220000   \n",
       "\n",
       "       pitch_degrees_t2  control_latency_microseconds_t2  pitch_degrees_t3  \\\n",
       "count       1002.000000                      1001.000000       1002.000000   \n",
       "mean          -0.014779                         2.020939          0.016761   \n",
       "std            0.359852                         2.070776          0.358205   \n",
       "min           -1.457350                         0.720000         -0.975500   \n",
       "25%           -0.267253                         0.950000         -0.240663   \n",
       "50%           -0.016585                         1.910000          0.012310   \n",
       "75%            0.255417                         2.150000          0.274377   \n",
       "max            0.887380                        35.050000          1.263940   \n",
       "\n",
       "       control_latency_microseconds_t3  \n",
       "count                      1001.000000  \n",
       "mean                          1.961578  \n",
       "std                           2.030239  \n",
       "min                           0.720000  \n",
       "25%                           0.950000  \n",
       "50%                           1.670000  \n",
       "75%                           2.150000  \n",
       "max                          47.210000  "
      ]
     },
     "execution_count": 28,
     "metadata": {},
     "output_type": "execute_result"
    }
   ],
   "source": [
    "_type = 'pid'\n",
    "df = pd.read_csv(f\"../simulation/logs/{_type}/{_type}.csv\", dtype=np.float64)\n",
    "df.describe()"
   ]
  },
  {
   "cell_type": "code",
   "execution_count": 29,
   "id": "c5e012d0",
   "metadata": {},
   "outputs": [
    {
     "data": {
      "image/png": "[encoded data removed]",
      "text/plain": [
       "<Figure size 640x480 with 1 Axes>"
      ]
     },
     "metadata": {},
     "output_type": "display_data"
    }
   ],
   "source": [
    "plt.plot(df[\"timestamp_s\"], df[\"pitch_degrees_t1\"], color=\"red\", label=\"Trial 1\")\n",
    "plt.plot(df[\"timestamp_s\"], df[\"pitch_degrees_t2\"], color=\"blue\", label=\"Trial 2\")\n",
    "plt.plot(df[\"timestamp_s\"], df[\"pitch_degrees_t3\"], color=\"green\", label=\"Trial 3\")\n",
    "plt.xlabel(\"Time (s)\")\n",
    "plt.ylabel(\"Pitch (degrees)\")\n",
    "plt.title(f\"{_type.upper()} Controller\")\n",
    "plt.ylim(-15, 15)\n",
    "plt.legend()\n",
    "plt.show()"
   ]
  },
  {
   "cell_type": "code",
   "execution_count": 30,
   "id": "02a993c9",
   "metadata": {},
   "outputs": [
    {
     "name": "stdout",
     "output_type": "stream",
     "text": [
      "Average latency: 2.012 microseconds\n"
     ]
    }
   ],
   "source": [
    "t1_avg = df['control_latency_microseconds_t1'].mean()\n",
    "t2_avg = df['control_latency_microseconds_t2'].mean()\n",
    "t3_avg = df['control_latency_microseconds_t3'].mean()\n",
    "\n",
    "avg = (t1_avg+t2_avg+t3_avg)/3\n",
    "\n",
    "print(f'Average latency: {avg:.3f} microseconds')\n"
   ]
  },
  {
   "cell_type": "code",
   "execution_count": null,
   "id": "c21a2a53",
   "metadata": {},
   "outputs": [],
   "source": []
  }
 ],
 "metadata": {
  "kernelspec": {
   "display_name": "venv",
   "language": "python",
   "name": "python3"
  },
  "language_info": {
   "codemirror_mode": {
    "name": "ipython",
    "version": 3
   },
   "file_extension": ".py",
   "mimetype": "text/x-python",
   "name": "python",
   "nbconvert_exporter": "python",
   "pygments_lexer": "ipython3",
   "version": "3.13.4"
  }
 },
 "nbformat": 4,
 "nbformat_minor": 5
}
